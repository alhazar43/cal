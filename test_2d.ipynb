{
 "cells": [
  {
   "cell_type": "code",
   "execution_count": 1,
   "metadata": {},
   "outputs": [],
   "source": [
    "import numpy as np\n",
    "import pandas as pd\n",
    "import matplotlib.pyplot as plt\n",
    "import seaborn as sns\n",
    "from mirt import MIRT, JointMIRT\n",
    "\n",
    "df = pd.read_csv('data.csv', low_memory=False)\n",
    "riasec_df = df.iloc[:, :48]\n",
    "tipi_df = df.iloc[:, 51:61]\n",
    "vcl_df = df.iloc[:, 61:77]\n",
    "\n",
    "n_students = riasec_df.shape[0]\n",
    "n_riasec_items = riasec_df.shape[1]\n",
    "n_tipi_items = tipi_df.shape[1]\n",
    "n_vcl_items = vcl_df.shape[1]\n",
    "\n",
    "n_riasec_categories = 5\n",
    "n_tipi_categories = 7\n",
    "\n",
    "\n",
    "riasec_df.replace(0,1,inplace=True)\n",
    "tipi_df.replace(0,1,inplace=True)\n",
    "\n",
    "\n",
    "combined_responses = [riasec_df.values-1, tipi_df.values-1, vcl_df.values]"
   ]
  },
  {
   "cell_type": "code",
   "execution_count": 22,
   "metadata": {},
   "outputs": [],
   "source": [
    "import numpy as np\n",
    "import pandas as pd\n",
    "import matplotlib.pyplot as plt\n",
    "import seaborn as sns\n",
    "from mirt import MIRT, JointMIRT\n",
    "\n",
    "rp = pd.read_csv('riasec_params_2d.csv')\n",
    "tp = pd.read_csv('tipi_params_2d.csv')\n",
    "vp = pd.read_csv('vcl_params_2d.csv')\n",
    "\n",
    "\n",
    "ra = rp.iloc[:, :2].values\n",
    "rb = rp.iloc[:, 2:].values\n",
    "ta = tp.iloc[:, :2].values\n",
    "tb = tp.iloc[:, 2:].values\n",
    "va = vp.iloc[:, :2].values\n",
    "vb = vp.iloc[:, 2:].values\n",
    "\n",
    "# rb = np.random.randn(48, 4)\n",
    "# ta = np.random.randn(10, 2)\n",
    "# tb = np.random.randn(10, 4)\n",
    "# va = np.random.randn(16, 2)\n",
    "# vb = np.random.randn(16)"
   ]
  },
  {
   "cell_type": "code",
   "execution_count": null,
   "metadata": {},
   "outputs": [
    {
     "data": {
      "application/vnd.microsoft.datawrangler.viewer.v0+json": {
       "columns": [
        {
         "name": "index",
         "rawType": "int64",
         "type": "integer"
        },
        {
         "name": "item_id",
         "rawType": "int64",
         "type": "integer"
        },
        {
         "name": "item_type",
         "rawType": "object",
         "type": "string"
        },
        {
         "name": "a",
         "rawType": "object",
         "type": "unknown"
        },
        {
         "name": "b",
         "rawType": "object",
         "type": "unknown"
        },
        {
         "name": "item_name",
         "rawType": "object",
         "type": "string"
        }
       ],
       "conversionMethod": "pd.DataFrame",
       "ref": "3c71421d-0578-4b63-a3eb-900540f4587d",
       "rows": [
        [
         "0",
         "0",
         "likert",
         "[0.50525516 0.5577716 ]",
         "[ 0.48221168 -0.626336    0.8483247   0.7227395 ]",
         "R1"
        ],
        [
         "1",
         "1",
         "likert",
         "[0.524633   0.59420663]",
         "[0.8017829  0.03557577 0.75502944 1.2922475 ]",
         "R2"
        ],
        [
         "2",
         "2",
         "likert",
         "[0.4580862  0.54075986]",
         "[1.2415437  0.48471054 0.8020799  1.009088  ]",
         "R3"
        ],
        [
         "3",
         "3",
         "likert",
         "[0.51237535 0.61570317]",
         "[0.5639593  0.17390423 0.47469407 0.8733632 ]",
         "R4"
        ],
        [
         "4",
         "4",
         "likert",
         "[0.6208623 0.7129248]",
         "[0.9982136 0.6832895 1.1405613 1.1605042]",
         "R5"
        ]
       ],
       "shape": {
        "columns": 5,
        "rows": 5
       }
      },
      "text/html": [
       "<div>\n",
       "<style scoped>\n",
       "    .dataframe tbody tr th:only-of-type {\n",
       "        vertical-align: middle;\n",
       "    }\n",
       "\n",
       "    .dataframe tbody tr th {\n",
       "        vertical-align: top;\n",
       "    }\n",
       "\n",
       "    .dataframe thead th {\n",
       "        text-align: right;\n",
       "    }\n",
       "</style>\n",
       "<table border=\"1\" class=\"dataframe\">\n",
       "  <thead>\n",
       "    <tr style=\"text-align: right;\">\n",
       "      <th></th>\n",
       "      <th>item_id</th>\n",
       "      <th>item_type</th>\n",
       "      <th>a</th>\n",
       "      <th>b</th>\n",
       "      <th>item_name</th>\n",
       "    </tr>\n",
       "  </thead>\n",
       "  <tbody>\n",
       "    <tr>\n",
       "      <th>0</th>\n",
       "      <td>0</td>\n",
       "      <td>likert</td>\n",
       "      <td>[0.50525516, 0.5577716]</td>\n",
       "      <td>[0.48221168, -0.626336, 0.8483247, 0.7227395]</td>\n",
       "      <td>R1</td>\n",
       "    </tr>\n",
       "    <tr>\n",
       "      <th>1</th>\n",
       "      <td>1</td>\n",
       "      <td>likert</td>\n",
       "      <td>[0.524633, 0.59420663]</td>\n",
       "      <td>[0.8017829, 0.03557577, 0.75502944, 1.2922475]</td>\n",
       "      <td>R2</td>\n",
       "    </tr>\n",
       "    <tr>\n",
       "      <th>2</th>\n",
       "      <td>2</td>\n",
       "      <td>likert</td>\n",
       "      <td>[0.4580862, 0.54075986]</td>\n",
       "      <td>[1.2415437, 0.48471054, 0.8020799, 1.009088]</td>\n",
       "      <td>R3</td>\n",
       "    </tr>\n",
       "    <tr>\n",
       "      <th>3</th>\n",
       "      <td>3</td>\n",
       "      <td>likert</td>\n",
       "      <td>[0.51237535, 0.61570317]</td>\n",
       "      <td>[0.5639593, 0.17390423, 0.47469407, 0.8733632]</td>\n",
       "      <td>R4</td>\n",
       "    </tr>\n",
       "    <tr>\n",
       "      <th>4</th>\n",
       "      <td>4</td>\n",
       "      <td>likert</td>\n",
       "      <td>[0.6208623, 0.7129248]</td>\n",
       "      <td>[0.9982136, 0.6832895, 1.1405613, 1.1605042]</td>\n",
       "      <td>R5</td>\n",
       "    </tr>\n",
       "  </tbody>\n",
       "</table>\n",
       "</div>"
      ],
      "text/plain": [
       "   item_id item_type                         a  \\\n",
       "0        0    likert   [0.50525516, 0.5577716]   \n",
       "1        1    likert    [0.524633, 0.59420663]   \n",
       "2        2    likert   [0.4580862, 0.54075986]   \n",
       "3        3    likert  [0.51237535, 0.61570317]   \n",
       "4        4    likert    [0.6208623, 0.7129248]   \n",
       "\n",
       "                                                b item_name  \n",
       "0   [0.48221168, -0.626336, 0.8483247, 0.7227395]        R1  \n",
       "1  [0.8017829, 0.03557577, 0.75502944, 1.2922475]        R2  \n",
       "2    [1.2415437, 0.48471054, 0.8020799, 1.009088]        R3  \n",
       "3  [0.5639593, 0.17390423, 0.47469407, 0.8733632]        R4  \n",
       "4    [0.9982136, 0.6832895, 1.1405613, 1.1605042]        R5  "
      ]
     },
     "execution_count": 25,
     "metadata": {},
     "output_type": "execute_result"
    }
   ],
   "source": [
    "riasec_name =[cat+str(num) for cat in ['R', 'I', 'A', 'S', 'E', 'C'] for num in range(1, 9)]\n",
    "\n",
    "df = pd.DataFrame({\n",
    "    'item_id': list(range(74)),\n",
    "    'item_type': ['likert']*58+['binary']*16,\n",
    "    'a': list(ra)+list(ta)+list(va),\n",
    "    'b': list(rb)+list(tb)+list(vb),\n",
    "    'item_name': riasec_name+['TIPI'+str(i) for i in range(1, 11)]+['VCL'+str(i) for i in range(1, 17)]\n",
    "})\n",
    "\n",
    "df.to_csv('combined_params.csv', index=False)"
   ]
  },
  {
   "cell_type": "code",
   "execution_count": 30,
   "metadata": {},
   "outputs": [
    {
     "name": "stdout",
     "output_type": "stream",
     "text": [
      "[array([ 0.48221168, -0.626336  ,  0.8483247 ,  0.7227395 ]), array([0.8017829 , 0.03557577, 0.75502944, 1.2922475 ]), array([1.2415437 , 0.48471054, 0.8020799 , 1.009088  ]), array([0.5639593 , 0.17390423, 0.47469407, 0.8733632 ]), array([0.9982136, 0.6832895, 1.1405613, 1.1605042]), array([0.62653035, 0.11150572, 0.68728274, 1.2391198 ]), array([0.60952073, 0.3995039 , 1.0943915 , 1.252364  ]), array([0.78935915, 0.396856  , 0.8942897 , 1.2548378 ]), array([-0.08874645, -0.6384786 , -0.21159112,  0.06709191]), array([ 0.0479616 , -0.5583176 , -0.32368818,  0.26902673]), array([ 0.16208328, -0.37909567, -0.1985323 ,  0.39315194]), array([ 0.16229536, -0.34932745, -0.00932184,  0.36219501]), array([ 0.31851092, -0.29878578,  0.00386784,  0.5451808 ]), array([ 0.24550286, -0.3739902 , -0.06636423,  0.44701117]), array([ 0.3248947 , -0.23961733,  0.12263109,  0.5694265 ]), array([ 0.5648124 , -0.07446972,  0.19789995,  0.7567628 ]), array([ 0.53280497, -0.02878604,  0.39067352,  0.57506233]), array([ 0.35530353, -0.19147603,  0.06428344,  0.45694646]), array([ 0.22524796, -0.27237108, -0.08197653,  0.30128974]), array([ 0.35194036, -0.28313014,  0.0261829 ,  0.18521148]), array([ 0.4561337 , -0.2714666 , -0.18193828,  0.02175267]), array([ 0.37906423, -0.5203369 , -0.16967341,  0.03265404]), array([ 0.5389555 , -0.08820958,  0.09088819,  0.36371657]), array([ 0.34471998, -0.22810763,  0.00416613,  0.5688247 ]), array([-0.29291922, -0.67185205, -0.17162864,  0.1950966 ]), array([-0.21154277, -0.9703752 , -0.3234475 ,  0.11477195]), array([-0.05080022, -0.46679467, -0.15534307,  0.23692475]), array([-0.09870292, -0.45476544,  0.02683086,  0.5114587 ]), array([-0.14900497, -0.58834314, -0.4155071 ,  0.03088797]), array([ 0.09884796, -0.3994637 , -0.07723735,  0.39255577]), array([-0.0472917 , -0.54045266, -0.14075899,  0.31285146]), array([-0.01011853, -0.33098403,  0.24470896,  0.5314553 ]), array([0.4249543 , 0.15362628, 0.8986687 , 1.0185188 ]), array([ 0.15151553, -0.01022437,  0.8071261 ,  1.1188496 ]), array([-0.13847125, -0.27247557,  0.31857994,  1.0349522 ]), array([0.32373118, 0.10461807, 0.5599803 , 0.7321121 ]), array([-0.03642206, -0.4729691 ,  0.10635751,  0.6392156 ]), array([ 0.05443041, -0.1471422 ,  0.49702835,  0.7835581 ]), array([ 0.31874946, -0.06741586,  0.4679084 ,  0.879152  ]), array([ 0.10483323, -0.20891416,  0.47613454,  0.90882283]), array([0.43354687, 0.00343468, 0.80837214, 0.9812233 ]), array([ 0.1487603 , -0.001946  ,  0.84765834,  1.201088  ]), array([0.25722432, 0.09358165, 0.7327651 , 0.9941304 ]), array([ 0.09798864, -0.10120621,  0.7605936 ,  1.1050808 ]), array([ 0.42402753, -0.07996845,  0.3570196 ,  0.8164922 ]), array([ 0.21960427, -0.46994716,  0.7302254 ,  0.8999424 ]), array([0.42091772, 0.24941143, 0.8810138 , 1.0689409 ]), array([0.31457314, 0.14225248, 1.0624897 , 1.1310596 ]), array([-0.3551029 , -0.04797413,  0.14282696, -0.85262716, -0.19804932,\n",
      "        0.40414456]), array([ 0.04506859,  0.20112805, -0.27942047, -0.56042695,  0.618516  ,\n",
      "        0.8333272 ]), array([-0.38549563, -0.5174917 , -0.30746168, -0.87846005, -0.5354683 ,\n",
      "        0.02878085]), array([-0.11091027,  0.2574262 , -0.00981775, -0.7483307 ,  0.5064693 ,\n",
      "        0.2965811 ]), array([-0.46221232, -0.73360026, -0.7228472 , -1.0322864 , -0.46268645,\n",
      "       -0.06292157]), array([ 0.04929028, -0.01945244, -0.05648058, -0.6802893 ,  0.15370624,\n",
      "        0.08883159]), array([-0.37099877, -0.5710428 , -0.59482497, -0.86743253, -0.4358787 ,\n",
      "       -0.02191862]), array([ 0.38843355,  0.36998147,  0.24298914, -0.5177073 ,  0.8660488 ,\n",
      "        0.6147504 ]), array([-0.48724988, -0.69219273, -0.14130345, -0.47449717, -0.31403556,\n",
      "        0.39236706]), array([0.28224602, 0.28766257, 0.19190761, 0.2066534 , 0.63507074,\n",
      "       0.5457355 ]), array([-2.1285398]), array([-1.1751633]), array([0.88558125]), array([-2.146628]), array([-1.6654139]), array([2.2176163]), array([1.668036]), array([0.9442233]), array([2.401883]), array([-2.2099369]), array([1.8448715]), array([1.9223603]), array([0.20861557]), array([-0.8880127]), array([-1.9537098]), array([-2.566142])] 74\n"
     ]
    }
   ],
   "source": [
    "import pickle\n",
    "data = {\n",
    "    'item_id': list(range(74)),\n",
    "    'item_type': ['likert']*58+['binary']*16,\n",
    "    'a': list(ra)+list(ta)+list(va),\n",
    "    'b': list(rb)+list(tb)+list(vb),\n",
    "    'item_name': riasec_name+['TIPI'+str(i) for i in range(1, 11)]+['VCL'+str(i) for i in range(1, 17)]\n",
    "}\n",
    "\n",
    "with open('combined_params.pkl', 'wb') as f:\n",
    "    pickle.dump(data, f)\n",
    "with open('combined_params.pkl', 'rb') as f:\n",
    "    loaded_data = pickle.load(f)\n",
    "    \n",
    "print(loaded_data['b'], len(loaded_data['b']))"
   ]
  },
  {
   "cell_type": "code",
   "execution_count": 38,
   "metadata": {},
   "outputs": [],
   "source": [
    "converted = [\n",
    "    {\n",
    "        'item_id': data['item_id'][idx],\n",
    "        'item_type': data['item_type'][idx],\n",
    "        'a': data['a'][idx],\n",
    "        'b': data['b'][idx],\n",
    "        'item_name': data['item_name'][idx]\n",
    "    }\n",
    "    for idx in range(74)\n",
    "]\n",
    "\n",
    "import json\n",
    "with open('combined_params.json', 'w') as f:\n",
    "    json.dump([{\n",
    "        'item_id': data['item_id'][idx],\n",
    "        'item_type': data['item_type'][idx],\n",
    "        'a': data['a'][idx].tolist(),\n",
    "        'b': data['b'][idx].tolist(),\n",
    "        'item_name': data['item_name'][idx]\n",
    "    } for idx in range(74)], f, indent=4)"
   ]
  },
  {
   "cell_type": "code",
   "execution_count": 37,
   "metadata": {},
   "outputs": [
    {
     "data": {
      "text/plain": [
       "[{'item_id': 0,\n",
       "  'item_type': 'likert',\n",
       "  'a': array([0.50525516, 0.5577716 ]),\n",
       "  'b': array([ 0.48221168, -0.626336  ,  0.8483247 ,  0.7227395 ]),\n",
       "  'item_name': 'R1'},\n",
       " {'item_id': 1,\n",
       "  'item_type': 'likert',\n",
       "  'a': array([0.524633  , 0.59420663]),\n",
       "  'b': array([0.8017829 , 0.03557577, 0.75502944, 1.2922475 ]),\n",
       "  'item_name': 'R2'},\n",
       " {'item_id': 2,\n",
       "  'item_type': 'likert',\n",
       "  'a': array([0.4580862 , 0.54075986]),\n",
       "  'b': array([1.2415437 , 0.48471054, 0.8020799 , 1.009088  ]),\n",
       "  'item_name': 'R3'},\n",
       " {'item_id': 3,\n",
       "  'item_type': 'likert',\n",
       "  'a': array([0.51237535, 0.61570317]),\n",
       "  'b': array([0.5639593 , 0.17390423, 0.47469407, 0.8733632 ]),\n",
       "  'item_name': 'R4'},\n",
       " {'item_id': 4,\n",
       "  'item_type': 'likert',\n",
       "  'a': array([0.6208623, 0.7129248]),\n",
       "  'b': array([0.9982136, 0.6832895, 1.1405613, 1.1605042]),\n",
       "  'item_name': 'R5'},\n",
       " {'item_id': 5,\n",
       "  'item_type': 'likert',\n",
       "  'a': array([0.603617  , 0.69001245]),\n",
       "  'b': array([0.62653035, 0.11150572, 0.68728274, 1.2391198 ]),\n",
       "  'item_name': 'R6'},\n",
       " {'item_id': 6,\n",
       "  'item_type': 'likert',\n",
       "  'a': array([0.71404994, 0.80236846]),\n",
       "  'b': array([0.60952073, 0.3995039 , 1.0943915 , 1.252364  ]),\n",
       "  'item_name': 'R7'},\n",
       " {'item_id': 7,\n",
       "  'item_type': 'likert',\n",
       "  'a': array([0.61479235, 0.695225  ]),\n",
       "  'b': array([0.78935915, 0.396856  , 0.8942897 , 1.2548378 ]),\n",
       "  'item_name': 'R8'},\n",
       " {'item_id': 8,\n",
       "  'item_type': 'likert',\n",
       "  'a': array([0.25681883, 0.27025107]),\n",
       "  'b': array([-0.08874645, -0.6384786 , -0.21159112,  0.06709191]),\n",
       "  'item_name': 'I1'},\n",
       " {'item_id': 9,\n",
       "  'item_type': 'likert',\n",
       "  'a': array([0.31631175, 0.31774613]),\n",
       "  'b': array([ 0.0479616 , -0.5583176 , -0.32368818,  0.26902673]),\n",
       "  'item_name': 'I2'},\n",
       " {'item_id': 10,\n",
       "  'item_type': 'likert',\n",
       "  'a': array([0.33470285, 0.35469303]),\n",
       "  'b': array([ 0.16208328, -0.37909567, -0.1985323 ,  0.39315194]),\n",
       "  'item_name': 'I3'},\n",
       " {'item_id': 11,\n",
       "  'item_type': 'likert',\n",
       "  'a': array([0.3492472 , 0.37099078]),\n",
       "  'b': array([ 0.16229536, -0.34932745, -0.00932184,  0.36219501]),\n",
       "  'item_name': 'I4'},\n",
       " {'item_id': 12,\n",
       "  'item_type': 'likert',\n",
       "  'a': array([0.33475646, 0.36935213]),\n",
       "  'b': array([ 0.31851092, -0.29878578,  0.00386784,  0.5451808 ]),\n",
       "  'item_name': 'I5'},\n",
       " {'item_id': 13,\n",
       "  'item_type': 'likert',\n",
       "  'a': array([0.3706119 , 0.38583055]),\n",
       "  'b': array([ 0.24550286, -0.3739902 , -0.06636423,  0.44701117]),\n",
       "  'item_name': 'I6'},\n",
       " {'item_id': 14,\n",
       "  'item_type': 'likert',\n",
       "  'a': array([0.3398433 , 0.37806994]),\n",
       "  'b': array([ 0.3248947 , -0.23961733,  0.12263109,  0.5694265 ]),\n",
       "  'item_name': 'I7'},\n",
       " {'item_id': 15,\n",
       "  'item_type': 'likert',\n",
       "  'a': array([0.43818235, 0.48462793]),\n",
       "  'b': array([ 0.5648124 , -0.07446972,  0.19789995,  0.7567628 ]),\n",
       "  'item_name': 'I8'},\n",
       " {'item_id': 16,\n",
       "  'item_type': 'likert',\n",
       "  'a': array([0.40181547, 0.37825277]),\n",
       "  'b': array([ 0.53280497, -0.02878604,  0.39067352,  0.57506233]),\n",
       "  'item_name': 'A1'},\n",
       " {'item_id': 17,\n",
       "  'item_type': 'likert',\n",
       "  'a': array([0.41925612, 0.38705695]),\n",
       "  'b': array([ 0.35530353, -0.19147603,  0.06428344,  0.45694646]),\n",
       "  'item_name': 'A2'},\n",
       " {'item_id': 18,\n",
       "  'item_type': 'likert',\n",
       "  'a': array([0.33739185, 0.319344  ]),\n",
       "  'b': array([ 0.22524796, -0.27237108, -0.08197653,  0.30128974]),\n",
       "  'item_name': 'A3'},\n",
       " {'item_id': 19,\n",
       "  'item_type': 'likert',\n",
       "  'a': array([0.33274943, 0.3013194 ]),\n",
       "  'b': array([ 0.35194036, -0.28313014,  0.0261829 ,  0.18521148]),\n",
       "  'item_name': 'A4'},\n",
       " {'item_id': 20,\n",
       "  'item_type': 'likert',\n",
       "  'a': array([0.28482658, 0.25670078]),\n",
       "  'b': array([ 0.4561337 , -0.2714666 , -0.18193828,  0.02175267]),\n",
       "  'item_name': 'A5'},\n",
       " {'item_id': 21,\n",
       "  'item_type': 'likert',\n",
       "  'a': array([0.3639279 , 0.34710264]),\n",
       "  'b': array([ 0.37906423, -0.5203369 , -0.16967341,  0.03265404]),\n",
       "  'item_name': 'A6'},\n",
       " {'item_id': 22,\n",
       "  'item_type': 'likert',\n",
       "  'a': array([0.36743274, 0.3738526 ]),\n",
       "  'b': array([ 0.5389555 , -0.08820958,  0.09088819,  0.36371657]),\n",
       "  'item_name': 'A7'},\n",
       " {'item_id': 23,\n",
       "  'item_type': 'likert',\n",
       "  'a': array([0.4809026 , 0.46403328]),\n",
       "  'b': array([ 0.34471998, -0.22810763,  0.00416613,  0.5688247 ]),\n",
       "  'item_name': 'A8'},\n",
       " {'item_id': 24,\n",
       "  'item_type': 'likert',\n",
       "  'a': array([0.4131637 , 0.33887064]),\n",
       "  'b': array([-0.29291922, -0.67185205, -0.17162864,  0.1950966 ]),\n",
       "  'item_name': 'S1'},\n",
       " {'item_id': 25,\n",
       "  'item_type': 'likert',\n",
       "  'a': array([0.38263324, 0.3077971 ]),\n",
       "  'b': array([-0.21154277, -0.9703752 , -0.3234475 ,  0.11477195]),\n",
       "  'item_name': 'S2'},\n",
       " {'item_id': 26,\n",
       "  'item_type': 'likert',\n",
       "  'a': array([0.3389883 , 0.25646943]),\n",
       "  'b': array([-0.05080022, -0.46679467, -0.15534307,  0.23692475]),\n",
       "  'item_name': 'S3'},\n",
       " {'item_id': 27,\n",
       "  'item_type': 'likert',\n",
       "  'a': array([0.47795862, 0.44689032]),\n",
       "  'b': array([-0.09870292, -0.45476544,  0.02683086,  0.5114587 ]),\n",
       "  'item_name': 'S4'},\n",
       " {'item_id': 28,\n",
       "  'item_type': 'likert',\n",
       "  'a': array([0.36486506, 0.26155433]),\n",
       "  'b': array([-0.14900497, -0.58834314, -0.4155071 ,  0.03088797]),\n",
       "  'item_name': 'S5'},\n",
       " {'item_id': 29,\n",
       "  'item_type': 'likert',\n",
       "  'a': array([0.460263, 0.373515]),\n",
       "  'b': array([ 0.09884796, -0.3994637 , -0.07723735,  0.39255577]),\n",
       "  'item_name': 'S6'},\n",
       " {'item_id': 30,\n",
       "  'item_type': 'likert',\n",
       "  'a': array([0.47018895, 0.37854582]),\n",
       "  'b': array([-0.0472917 , -0.54045266, -0.14075899,  0.31285146]),\n",
       "  'item_name': 'S7'},\n",
       " {'item_id': 31,\n",
       "  'item_type': 'likert',\n",
       "  'a': array([0.4750159 , 0.39559066]),\n",
       "  'b': array([-0.01011853, -0.33098403,  0.24470896,  0.5314553 ]),\n",
       "  'item_name': 'S8'},\n",
       " {'item_id': 32,\n",
       "  'item_type': 'likert',\n",
       "  'a': array([0.53857815, 0.5298147 ]),\n",
       "  'b': array([0.4249543 , 0.15362628, 0.8986687 , 1.0185188 ]),\n",
       "  'item_name': 'E1'},\n",
       " {'item_id': 33,\n",
       "  'item_type': 'likert',\n",
       "  'a': array([0.54487354, 0.51099485]),\n",
       "  'b': array([ 0.15151553, -0.01022437,  0.8071261 ,  1.1188496 ]),\n",
       "  'item_name': 'E2'},\n",
       " {'item_id': 34,\n",
       "  'item_type': 'likert',\n",
       "  'a': array([0.695823 , 0.6775123]),\n",
       "  'b': array([-0.13847125, -0.27247557,  0.31857994,  1.0349522 ]),\n",
       "  'item_name': 'E3'},\n",
       " {'item_id': 35,\n",
       "  'item_type': 'likert',\n",
       "  'a': array([0.48274758, 0.4348605 ]),\n",
       "  'b': array([0.32373118, 0.10461807, 0.5599803 , 0.7321121 ]),\n",
       "  'item_name': 'E4'},\n",
       " {'item_id': 36,\n",
       "  'item_type': 'likert',\n",
       "  'a': array([0.57266676, 0.57569575]),\n",
       "  'b': array([-0.03642206, -0.4729691 ,  0.10635751,  0.6392156 ]),\n",
       "  'item_name': 'E5'},\n",
       " {'item_id': 37,\n",
       "  'item_type': 'likert',\n",
       "  'a': array([0.6072257, 0.5662813]),\n",
       "  'b': array([ 0.05443041, -0.1471422 ,  0.49702835,  0.7835581 ]),\n",
       "  'item_name': 'E6'},\n",
       " {'item_id': 38,\n",
       "  'item_type': 'likert',\n",
       "  'a': array([0.48147276, 0.4606976 ]),\n",
       "  'b': array([ 0.31874946, -0.06741586,  0.4679084 ,  0.879152  ]),\n",
       "  'item_name': 'E7'},\n",
       " {'item_id': 39,\n",
       "  'item_type': 'likert',\n",
       "  'a': array([0.7491459 , 0.72761214]),\n",
       "  'b': array([ 0.10483323, -0.20891416,  0.47613454,  0.90882283]),\n",
       "  'item_name': 'E8'},\n",
       " {'item_id': 40,\n",
       "  'item_type': 'likert',\n",
       "  'a': array([0.5786714 , 0.58983785]),\n",
       "  'b': array([0.43354687, 0.00343468, 0.80837214, 0.9812233 ]),\n",
       "  'item_name': 'C1'},\n",
       " {'item_id': 41,\n",
       "  'item_type': 'likert',\n",
       "  'a': array([0.6785166 , 0.71743196]),\n",
       "  'b': array([ 0.1487603 , -0.001946  ,  0.84765834,  1.201088  ]),\n",
       "  'item_name': 'C2'},\n",
       " {'item_id': 42,\n",
       "  'item_type': 'likert',\n",
       "  'a': array([0.69405025, 0.73680246]),\n",
       "  'b': array([0.25722432, 0.09358165, 0.7327651 , 0.9941304 ]),\n",
       "  'item_name': 'C3'},\n",
       " {'item_id': 43,\n",
       "  'item_type': 'likert',\n",
       "  'a': array([0.67989284, 0.681227  ]),\n",
       "  'b': array([ 0.09798864, -0.10120621,  0.7605936 ,  1.1050808 ]),\n",
       "  'item_name': 'C4'},\n",
       " {'item_id': 44,\n",
       "  'item_type': 'likert',\n",
       "  'a': array([0.5019306, 0.5650311]),\n",
       "  'b': array([ 0.42402753, -0.07996845,  0.3570196 ,  0.8164922 ]),\n",
       "  'item_name': 'C5'},\n",
       " {'item_id': 45,\n",
       "  'item_type': 'likert',\n",
       "  'a': array([0.6073779 , 0.66294616]),\n",
       "  'b': array([ 0.21960427, -0.46994716,  0.7302254 ,  0.8999424 ]),\n",
       "  'item_name': 'C6'},\n",
       " {'item_id': 46,\n",
       "  'item_type': 'likert',\n",
       "  'a': array([0.6705642, 0.6912831]),\n",
       "  'b': array([0.42091772, 0.24941143, 0.8810138 , 1.0689409 ]),\n",
       "  'item_name': 'C7'},\n",
       " {'item_id': 47,\n",
       "  'item_type': 'likert',\n",
       "  'a': array([0.79281306, 0.832407  ]),\n",
       "  'b': array([0.31457314, 0.14225248, 1.0624897 , 1.1310596 ]),\n",
       "  'item_name': 'C8'},\n",
       " {'item_id': 48,\n",
       "  'item_type': 'likert',\n",
       "  'a': array([0.09298559, 0.06493465]),\n",
       "  'b': array([-0.3551029 , -0.04797413,  0.14282696, -0.85262716, -0.19804932,\n",
       "          0.40414456]),\n",
       "  'item_name': 'TIPI1'},\n",
       " {'item_id': 49,\n",
       "  'item_type': 'likert',\n",
       "  'a': array([0.00950974, 0.02536594]),\n",
       "  'b': array([ 0.04506859,  0.20112805, -0.27942047, -0.56042695,  0.618516  ,\n",
       "          0.8333272 ]),\n",
       "  'item_name': 'TIPI2'},\n",
       " {'item_id': 50,\n",
       "  'item_type': 'likert',\n",
       "  'a': array([0.05768175, 0.03791483]),\n",
       "  'b': array([-0.38549563, -0.5174917 , -0.30746168, -0.87846005, -0.5354683 ,\n",
       "          0.02878085]),\n",
       "  'item_name': 'TIPI3'},\n",
       " {'item_id': 51,\n",
       "  'item_type': 'likert',\n",
       "  'a': array([-0.02100697, -0.03036396]),\n",
       "  'b': array([-0.11091027,  0.2574262 , -0.00981775, -0.7483307 ,  0.5064693 ,\n",
       "          0.2965811 ]),\n",
       "  'item_name': 'TIPI4'},\n",
       " {'item_id': 52,\n",
       "  'item_type': 'likert',\n",
       "  'a': array([0.14136235, 0.12774847]),\n",
       "  'b': array([-0.46221232, -0.73360026, -0.7228472 , -1.0322864 , -0.46268645,\n",
       "         -0.06292157]),\n",
       "  'item_name': 'TIPI5'},\n",
       " {'item_id': 53,\n",
       "  'item_type': 'likert',\n",
       "  'a': array([-0.00352116,  0.00835454]),\n",
       "  'b': array([ 0.04929028, -0.01945244, -0.05648058, -0.6802893 ,  0.15370624,\n",
       "          0.08883159]),\n",
       "  'item_name': 'TIPI6'},\n",
       " {'item_id': 54,\n",
       "  'item_type': 'likert',\n",
       "  'a': array([0.10618619, 0.04131352]),\n",
       "  'b': array([-0.37099877, -0.5710428 , -0.59482497, -0.86743253, -0.4358787 ,\n",
       "         -0.02191862]),\n",
       "  'item_name': 'TIPI7'},\n",
       " {'item_id': 55,\n",
       "  'item_type': 'likert',\n",
       "  'a': array([0.01065075, 0.02290063]),\n",
       "  'b': array([ 0.38843355,  0.36998147,  0.24298914, -0.5177073 ,  0.8660488 ,\n",
       "          0.6147504 ]),\n",
       "  'item_name': 'TIPI8'},\n",
       " {'item_id': 56,\n",
       "  'item_type': 'likert',\n",
       "  'a': array([0.05846295, 0.0542513 ]),\n",
       "  'b': array([-0.48724988, -0.69219273, -0.14130345, -0.47449717, -0.31403556,\n",
       "          0.39236706]),\n",
       "  'item_name': 'TIPI9'},\n",
       " {'item_id': 57,\n",
       "  'item_type': 'likert',\n",
       "  'a': array([-0.01569176, -0.00183356]),\n",
       "  'b': array([0.28224602, 0.28766257, 0.19190761, 0.2066534 , 0.63507074,\n",
       "         0.5457355 ]),\n",
       "  'item_name': 'TIPI10'},\n",
       " {'item_id': 58,\n",
       "  'item_type': 'binary',\n",
       "  'a': array([-0.00247969,  0.03157381]),\n",
       "  'b': array([-2.1285398]),\n",
       "  'item_name': 'VCL1'},\n",
       " {'item_id': 59,\n",
       "  'item_type': 'binary',\n",
       "  'a': array([0.03718331, 0.05651663]),\n",
       "  'b': array([-1.1751633]),\n",
       "  'item_name': 'VCL2'},\n",
       " {'item_id': 60,\n",
       "  'item_type': 'binary',\n",
       "  'a': array([0.08407085, 0.1327101 ]),\n",
       "  'b': array([0.88558125]),\n",
       "  'item_name': 'VCL3'},\n",
       " {'item_id': 61,\n",
       "  'item_type': 'binary',\n",
       "  'a': array([0.00876771, 0.04453646]),\n",
       "  'b': array([-2.146628]),\n",
       "  'item_name': 'VCL4'},\n",
       " {'item_id': 62,\n",
       "  'item_type': 'binary',\n",
       "  'a': array([0.08491486, 0.08475099]),\n",
       "  'b': array([-1.6654139]),\n",
       "  'item_name': 'VCL5'},\n",
       " {'item_id': 63,\n",
       "  'item_type': 'binary',\n",
       "  'a': array([0.11921653, 0.09452316]),\n",
       "  'b': array([2.2176163]),\n",
       "  'item_name': 'VCL6'},\n",
       " {'item_id': 64,\n",
       "  'item_type': 'binary',\n",
       "  'a': array([0.14830726, 0.17432658]),\n",
       "  'b': array([1.668036]),\n",
       "  'item_name': 'VCL7'},\n",
       " {'item_id': 65,\n",
       "  'item_type': 'binary',\n",
       "  'a': array([0.12442775, 0.14898412]),\n",
       "  'b': array([0.9442233]),\n",
       "  'item_name': 'VCL8'},\n",
       " {'item_id': 66,\n",
       "  'item_type': 'binary',\n",
       "  'a': array([0.17135967, 0.16565004]),\n",
       "  'b': array([2.401883]),\n",
       "  'item_name': 'VCL9'},\n",
       " {'item_id': 67,\n",
       "  'item_type': 'binary',\n",
       "  'a': array([0.13398494, 0.1312755 ]),\n",
       "  'b': array([-2.2099369]),\n",
       "  'item_name': 'VCL10'},\n",
       " {'item_id': 68,\n",
       "  'item_type': 'binary',\n",
       "  'a': array([0.12298641, 0.17434579]),\n",
       "  'b': array([1.8448715]),\n",
       "  'item_name': 'VCL11'},\n",
       " {'item_id': 69,\n",
       "  'item_type': 'binary',\n",
       "  'a': array([0.13794586, 0.14093208]),\n",
       "  'b': array([1.9223603]),\n",
       "  'item_name': 'VCL12'},\n",
       " {'item_id': 70,\n",
       "  'item_type': 'binary',\n",
       "  'a': array([0.04136857, 0.09614092]),\n",
       "  'b': array([0.20861557]),\n",
       "  'item_name': 'VCL13'},\n",
       " {'item_id': 71,\n",
       "  'item_type': 'binary',\n",
       "  'a': array([0.00506431, 0.02450072]),\n",
       "  'b': array([-0.8880127]),\n",
       "  'item_name': 'VCL14'},\n",
       " {'item_id': 72,\n",
       "  'item_type': 'binary',\n",
       "  'a': array([-0.04166614, -0.01613953]),\n",
       "  'b': array([-1.9537098]),\n",
       "  'item_name': 'VCL15'},\n",
       " {'item_id': 73,\n",
       "  'item_type': 'binary',\n",
       "  'a': array([0.00519017, 0.0070799 ]),\n",
       "  'b': array([-2.566142]),\n",
       "  'item_name': 'VCL16'}]"
      ]
     },
     "execution_count": 37,
     "metadata": {},
     "output_type": "execute_result"
    }
   ],
   "source": [
    "converted"
   ]
  },
  {
   "cell_type": "code",
   "execution_count": 11,
   "metadata": {},
   "outputs": [
    {
     "name": "stderr",
     "output_type": "stream",
     "text": [
      "Training MIRT Model:   0%|          | 0/500 [00:00<?, ?it/s]"
     ]
    },
    {
     "name": "stderr",
     "output_type": "stream",
     "text": [
      "                                                                      \r"
     ]
    }
   ],
   "source": [
    "mirt = MIRT(n_students, n_riasec_items, n_dims=2, n_categories=n_riasec_categories)\n",
    "mirt.specify_model(model_type=\"GPCM\")\n",
    "mirt.fit(riasec_df.values-1, n_epochs=500, lr=0.01)\n",
    "\n",
    "single_theta = mirt.theta.detach().numpy()\n",
    "single_a = mirt.item_model.a.detach().numpy()\n",
    "single_b = mirt.item_model.b.detach().numpy()"
   ]
  },
  {
   "cell_type": "code",
   "execution_count": 15,
   "metadata": {},
   "outputs": [
    {
     "data": {
      "text/plain": [
       "array([[-0.5276467 ,  0.8034531 ],\n",
       "       [-0.17926054, -0.5933209 ],\n",
       "       [-0.5750046 , -0.1642677 ],\n",
       "       ...,\n",
       "       [-0.6288446 , -0.37810132],\n",
       "       [-1.035421  ,  1.7729079 ],\n",
       "       [ 0.61238945,  0.20101461]], shape=(145828, 2), dtype=float32)"
      ]
     },
     "execution_count": 15,
     "metadata": {},
     "output_type": "execute_result"
    }
   ],
   "source": [
    "single_theta_norm"
   ]
  },
  {
   "cell_type": "code",
   "execution_count": 13,
   "metadata": {},
   "outputs": [
    {
     "data": {
      "image/png": "[encoded data removed]",
      "text/plain": [
       "<Figure size 640x480 with 1 Axes>"
      ]
     },
     "metadata": {},
     "output_type": "display_data"
    }
   ],
   "source": [
    "theta_df = pd.read_csv('thetas.csv')\n",
    "theta_from_df = theta_df.values\n",
    "fig, ax = plt.subplots()\n",
    "\n",
    "single_theta = single_theta.squeeze()\n",
    "mu = single_theta.mean(axis=0)\n",
    "sigma = single_theta.std(axis=0)\n",
    "\n",
    "single_theta_norm = (single_theta - mu) / sigma\n",
    "\n",
    "# single_theta -= single_theta.mean()\n",
    "# single_theta /= single_theta.std()\n",
    "\n",
    "sns.kdeplot(single_theta_norm[:, 0], ax=ax ,label=r'$\\theta_1$ (riasec)', color='red', fill=True)\n",
    "sns.kdeplot(single_theta_norm[:, 1], ax=ax ,label=r'$\\theta_2$ (riasec)', color='blue', fill=True)\n",
    "sns.kdeplot(theta_from_df, ax=ax, label=r'Loaed $\\theta$', color='green', fill=True)\n",
    "plt.legend()\n",
    "plt.show()"
   ]
  },
  {
   "cell_type": "code",
   "execution_count": 10,
   "metadata": {},
   "outputs": [
    {
     "name": "stderr",
     "output_type": "stream",
     "text": [
      "                                                                      \r"
     ]
    },
    {
     "data": {
      "text/plain": [
       "JointMIRT(\n",
       "  (item_models): ModuleList(\n",
       "    (0-1): 2 x GPCMModel()\n",
       "    (2): TwoPLModel()\n",
       "  )\n",
       ")"
      ]
     },
     "execution_count": 10,
     "metadata": {},
     "output_type": "execute_result"
    }
   ],
   "source": [
    "jmirt = JointMIRT(n_students, n_dims=2)\n",
    "jmirt.add_model(\"GPCM\", n_items=n_riasec_items, n_categories=n_riasec_categories)\n",
    "jmirt.add_model(\"GPCM\", n_items=n_tipi_items, n_categories=n_tipi_categories)\n",
    "jmirt.add_model(\"2PL\", n_items=n_vcl_items)\n",
    "\n",
    "jmirt.fit(combined_responses, n_epochs=500, lr=0.01)"
   ]
  },
  {
   "cell_type": "code",
   "execution_count": 16,
   "metadata": {},
   "outputs": [],
   "source": [
    "riasec_a = jmirt.item_models[0].a.detach().numpy()\n",
    "riasec_b = jmirt.item_models[0].b.detach().numpy()\n",
    "tipi_a = jmirt.item_models[1].a.detach().numpy()\n",
    "tipi_b = jmirt.item_models[1].b.detach().numpy()\n",
    "vcl_a = jmirt.item_models[2].a.detach().numpy()\n",
    "vcl_b = jmirt.item_models[2].b.detach().numpy()"
   ]
  },
  {
   "cell_type": "code",
   "execution_count": 19,
   "metadata": {},
   "outputs": [],
   "source": [
    "riasec_prarms = pd.DataFrame(np.concatenate([riasec_a, riasec_b], axis=1), columns=['a1', 'a2', 'b1', 'b2', 'b3', 'b4'])\n",
    "tipi_prarms = pd.DataFrame(np.concatenate([tipi_a, tipi_b], axis=1), columns=['a1', 'a2','b1', 'b2', 'b3', 'b4', 'b5', 'b6'])\n",
    "vcl_prarms = pd.DataFrame(np.column_stack([vcl_a, vcl_b]), columns=['a1', 'a2', 'b'])\n",
    "\n",
    "vcl_prarms.to_csv('vcl_params_2d.csv', index=False)\n",
    "tipi_prarms.to_csv('tipi_params_2d.csv', index=False)\n",
    "riasec_prarms.to_csv('riasec_params_2d.csv', index=False)"
   ]
  },
  {
   "cell_type": "code",
   "execution_count": 27,
   "metadata": {},
   "outputs": [
    {
     "data": {
      "text/plain": [
       "array([-0.00599717, -0.00627748, -0.00555454, -0.00624913, -0.00746144,\n",
       "       -0.00724379, -0.00852262, -0.00735261, -0.00300398, -0.00364933,\n",
       "       -0.00392329, -0.00409673, -0.00397275, -0.00432108, -0.00404351,\n",
       "       -0.00520405, -0.00455091, -0.00472298, -0.00382707, -0.00372882,\n",
       "       -0.00318771, -0.0041369 , -0.00425502, -0.00548453, -0.00451201,\n",
       "       -0.00415842, -0.00362986, -0.00540313, -0.00385847, -0.00501304,\n",
       "       -0.00511103, -0.00520751, -0.00617618, -0.00616472, -0.00795602,\n",
       "       -0.00540206, -0.00660838, -0.00685951, -0.00547804, -0.00855963,\n",
       "       -0.00670478, -0.007948  , -0.0081398 , -0.00783817, -0.00599425,\n",
       "       -0.00718403, -0.00779551, -0.00926719], dtype=float32)"
      ]
     },
     "execution_count": 27,
     "metadata": {},
     "output_type": "execute_result"
    }
   ],
   "source": [
    "np.dot(riasec_a, mu)"
   ]
  },
  {
   "cell_type": "code",
   "execution_count": 33,
   "metadata": {},
   "outputs": [
    {
     "data": {
      "text/plain": [
       "np.float64(5.0)"
      ]
     },
     "execution_count": 33,
     "metadata": {},
     "output_type": "execute_result"
    }
   ],
   "source": [
    "np.mean(5)"
   ]
  },
  {
   "cell_type": "code",
   "execution_count": 35,
   "metadata": {},
   "outputs": [],
   "source": [
    "joint_theta = jmirt.theta.detach().numpy().squeeze()\n",
    "mu = joint_theta.mean(axis=0)\n",
    "sigma = joint_theta.std(axis=0)\n",
    "joint_theta_norm = (joint_theta - mu) / sigma\n",
    "\n",
    "\n",
    "pd.DataFrame(single_theta_norm, columns=['theta1', 'theta2']).to_csv('single_theta_2d.csv', index=False)\n",
    "pd.DataFrame(joint_theta, columns=['theta1', 'theta2']).to_csv('joint_theta_2d.csv', index=False)\n",
    "pd.DataFrame(joint_theta_norm, columns=['theta1', 'theta2']).to_csv('joint_theta_norm_2d.csv', index=False)\n",
    "\n",
    "def a_norm(a, sigma):\n",
    "    return a * sigma\n",
    "def gpcm_b_norm(b, a, mu, sigma):\n",
    "    a_eff = np.mean(a, axis=1)\n",
    "    mu_eff = np.mean(mu)\n",
    "    sigma_eff = np.mean(sigma)\n",
    "    \n",
    "    T = np.cumsum(b, axis=1)\n",
    "    T = np.concatenate([np.zeros((T.shape[0], 1)), T], axis=1)\n",
    "    T_norm = np.zeros_like(T)\n",
    "    for c in range(T.shape[1]):\n",
    "        T_norm[:, c] = (T[:, c] - c * a_eff * mu_eff) / sigma_eff\n",
    "    return np.diff(T_norm, axis=1)\n",
    "\n",
    "riasec_a_norm = a_norm(riasec_a, sigma)\n",
    "riasec_b_norm = gpcm_b_norm(riasec_b, riasec_a, mu, sigma)\n",
    "tipi_a_norm = a_norm(tipi_a, sigma)\n",
    "tipi_b_norm = gpcm_b_norm(tipi_b, tipi_a, mu, sigma)\n",
    "vcl_a_norm = a_norm(vcl_a, sigma)\n",
    "vcl_b_norm = (vcl_b - mu.mean()) / sigma.mean()"
   ]
  },
  {
   "cell_type": "code",
   "execution_count": 3,
   "metadata": {},
   "outputs": [
    {
     "data": {
      "text/plain": [
       "array([ 0.20328788, -0.27498867])"
      ]
     },
     "execution_count": 3,
     "metadata": {},
     "output_type": "execute_result"
    }
   ],
   "source": [
    "import numpy as np\n",
    "np.random.normal(0, 1, 2)"
   ]
  },
  {
   "cell_type": "code",
   "execution_count": 36,
   "metadata": {},
   "outputs": [],
   "source": [
    "riasec_norm_params = pd.DataFrame(np.concatenate([riasec_a_norm, riasec_b_norm], axis=1), columns=['a1', 'a2', 'b1', 'b2', 'b3', 'b4'])\n",
    "tipi_norm_params = pd.DataFrame(np.concatenate([tipi_a_norm, tipi_b_norm], axis=1), columns=['a1', 'a2', 'b1', 'b2', 'b3', 'b4', 'b5', 'b6'])\n",
    "vcl_norm_params = pd.DataFrame(np.column_stack([vcl_a_norm, vcl_b_norm]), columns=['a1', 'a2', 'b'])\n",
    "\n",
    "vcl_norm_params.to_csv('vcl_norm_params_2d.csv', index=False)\n",
    "tipi_norm_params.to_csv('tipi_norm_params_2d.csv', index=False)\n",
    "riasec_norm_params.to_csv('riasec_norm_params_2d.csv', index=False)"
   ]
  },
  {
   "cell_type": "code",
   "execution_count": 41,
   "metadata": {},
   "outputs": [
    {
     "data": {
      "image/png": "[encoded data removed]",
      "text/plain": [
       "<Figure size 1500x600 with 2 Axes>"
      ]
     },
     "metadata": {},
     "output_type": "display_data"
    }
   ],
   "source": [
    "fig, ax = plt.subplots(1, 2, figsize=(15, 6))\n",
    "sns.kdeplot(single_theta_norm[:, 0], ax=ax[0] ,label=r'$\\theta_1$ (riasec)', color='cyan', fill=True)\n",
    "sns.kdeplot(single_theta_norm[:, 1], ax=ax[0] ,label=r'$\\theta_2$ (riasec)', color='blue', fill=True)\n",
    "sns.kdeplot(joint_theta_norm[:, 0], ax=ax[1] ,label=r'$\\theta_1$ (joint)', color='orange', fill=True)\n",
    "sns.kdeplot(joint_theta_norm[:, 1], ax=ax[1] ,label=r'$\\theta_2$ (joint)', color='red', fill=True)\n",
    "for x in [ax[0], ax[1]]:\n",
    "\n",
    "    sns.kdeplot(theta_from_df, ax=x, label=r'Loaed $\\theta$', color='black')\n",
    "    x.legend()\n",
    "\n",
    "plt.show()\n"
   ]
  },
  {
   "cell_type": "code",
   "execution_count": 43,
   "metadata": {},
   "outputs": [
    {
     "data": {
      "image/png": "[encoded data removed]",
      "text/plain": [
       "<Figure size 640x480 with 2 Axes>"
      ]
     },
     "metadata": {},
     "output_type": "display_data"
    }
   ],
   "source": [
    "plt.hist2d(joint_theta_norm[:, 0], joint_theta_norm[:, 1], bins=50, cmap='viridis')\n",
    "plt.colorbar()\n",
    "plt.show()"
   ]
  },
  {
   "cell_type": "code",
   "execution_count": 68,
   "metadata": {},
   "outputs": [
    {
     "data": {
      "text/plain": [
       "(48, 3)"
      ]
     },
     "execution_count": 68,
     "metadata": {},
     "output_type": "execute_result"
    }
   ],
   "source": [
    "np.concatenate([riasec_a, single_a, a[..., np.newaxis]], axis=1).shape"
   ]
  },
  {
   "cell_type": "code",
   "execution_count": 78,
   "metadata": {},
   "outputs": [
    {
     "data": {
      "image/png": "[encoded data removed]",
      "text/plain": [
       "<Figure size 640x480 with 1 Axes>"
      ]
     },
     "metadata": {},
     "output_type": "display_data"
    }
   ],
   "source": [
    "item_pars = pd.read_csv('item_pars.csv').values\n",
    "\n",
    "a = item_pars[:, 0]\n",
    "b = item_pars[:, 1:5]\n",
    "\n",
    "combined_a = np.concatenate([riasec_a, single_a, a[..., np.newaxis]], axis=1)\n",
    "label = ['JMIRT', 'MIRT', 'Loaded']\n",
    "plt.hist(riasec_a.squeeze(), bins=10, alpha=0.5, label='JMIRT', color='green', align='left', rwidth=0.25)\n",
    "plt.hist(single_a.squeeze(), bins=10, alpha=0.5, label='MIRT', color='red', align='mid', rwidth=0.25)\n",
    "plt.hist(a, bins=10, alpha=0.5, label='Loaded', color='blue', align='right', rwidth=0.5)\n",
    "plt.legend()\n",
    "plt.show()"
   ]
  }
 ],
 "metadata": {
  "kernelspec": {
   "display_name": "RecSys",
   "language": "python",
   "name": "python3"
  },
  "language_info": {
   "codemirror_mode": {
    "name": "ipython",
    "version": 3
   },
   "file_extension": ".py",
   "mimetype": "text/x-python",
   "name": "python",
   "nbconvert_exporter": "python",
   "pygments_lexer": "ipython3",
   "version": "3.11.11"
  }
 },
 "nbformat": 4,
 "nbformat_minor": 2
}
